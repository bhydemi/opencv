{
 "cells": [
  {
   "cell_type": "code",
   "execution_count": 75,
   "metadata": {},
   "outputs": [],
   "source": [
    "import cv2\n",
    "import numpy as np\n",
    "from IPython.display import Video "
   ]
  },
  {
   "cell_type": "code",
   "execution_count": 76,
   "metadata": {},
   "outputs": [],
   "source": [
    "video_1 = './video_files/intruder_1.mp4'\n",
    "saved_video = 'saved_video.mp4'\n",
    "saved_video_ = 'big_saved_video.mp4'\n",
    "capture_video = cv2.VideoCapture(video_1)\n",
    "width = int(capture_video.get( cv2.CAP_PROP_FRAME_WIDTH))\n",
    "hieght = int(capture_video.get(cv2.CAP_PROP_FRAME_HEIGHT))\n",
    "fps = capture_video.get(cv2.CAP_PROP_FPS)\n",
    "\n",
    "video_out = cv2.VideoWriter(saved_video, cv2.VideoWriter_fourcc(*'XVID'), fps, (width, hieght) )\n",
    "video_bigout = cv2.VideoWriter(saved_video_, cv2.VideoWriter_fourcc(*'XVID'), fps, (2*width, 2*hieght) )"
   ]
  },
  {
   "cell_type": "code",
   "execution_count": 77,
   "metadata": {},
   "outputs": [],
   "source": [
    "bg_sub = cv2.createBackgroundSubtractorKNN(200)"
   ]
  },
  {
   "cell_type": "code",
   "execution_count": 78,
   "metadata": {},
   "outputs": [],
   "source": [
    "def DrawBanner(frame, text, banner_height_percent=0.08, font_scale =0.8, text_color=(255, 0, 0), font_thickness=2):\n",
    "    banner_height = int(banner_height_percent * frame.shape[0])\n",
    "    cv2.rectangle(frame, (0,0), (frame.shape[1], banner_height), (0,0,0), thickness=-1)\n",
    "    left_offset =20\n",
    "    location =(left_offset, int(10 + (banner_height_percent * frame.shape[0])/2))\n",
    "    cv2.putText(frame, text, location, cv2.FONT_HERSHEY_SIMPLEX, font_scale, text_color, font_thickness, cv2.LINE_AA)"
   ]
  },
  {
   "cell_type": "code",
   "execution_count": 79,
   "metadata": {},
   "outputs": [],
   "source": [
    "kernel = 5 \n",
    "frame_start = 5\n",
    "frame_count = 0\n",
    "\n",
    "while True:\n",
    "    is_frame, frame = capture_video.read()\n",
    "    frame_count += 1 \n",
    "    if is_frame is False:\n",
    "        break\n",
    "    else:\n",
    "        frame_erode_c = frame.copy()\n",
    "    frame_mask = bg_sub.apply(frame)\n",
    "\n",
    "\n",
    "\n",
    "    if frame_count > frame_start:\n",
    "        motion_area = cv2.findNonZero(frame_mask)\n",
    "        if motion_area is not None: \n",
    "            x, y, w, h = cv2.boundingRect(motion_area)\n",
    "            cv2.rectangle(frame, (x, y), (x+w, y+h), (0,255, 255), 4)\n",
    "            DrawBanner(frame, 'Intruder Alert')\n",
    "\n",
    "        frame_mask_erode = cv2.erode(frame_mask, np.ones(kernel, np.uint8))\n",
    "        motion_area_erode = cv2.findNonZero(frame_mask_erode)\n",
    "        if motion_area_erode is not None:\n",
    "            xe, ye, we, he = cv2.boundingRect(motion_area_erode)\n",
    "            cv2.rectangle(frame_erode_c, (xe, ye), (xe+we, ye+he), (0,255, 255), 4)\n",
    "            DrawBanner(frame_erode_c, 'Intruder Alert')\n",
    "\n",
    "        frame_mask_bgr = cv2.cvtColor(frame_mask, cv2.COLOR_GRAY2BGR)\n",
    "        frame_mask_erode_bgr = cv2.cvtColor(frame_mask_erode, cv2.COLOR_GRAY2BGR)\n",
    "\n",
    "        contours, hierarchy = cv2.findContours(frame_mask_erode, cv2.RETR_LIST, cv2.CHAIN_APPROX_SIMPLE)\n",
    "        if len(contours) > 0:\n",
    "            cv2.drawContours(frame_mask_erode_bgr, contours, -1, (255,0,255), 2 )\n",
    "            conoturs_sorted = sorted(contours, key=cv2.contourArea, reverse=True)\n",
    "\n",
    "        frame_mask_erode\n",
    "        video_out.write(frame_erode_c)\n",
    "\n",
    "\n",
    "capture_video.release()\n",
    "video_out.release()\n",
    "\n",
    "\n"
   ]
  }
 ],
 "metadata": {
  "kernelspec": {
   "display_name": "base",
   "language": "python",
   "name": "python3"
  },
  "language_info": {
   "codemirror_mode": {
    "name": "ipython",
    "version": 3
   },
   "file_extension": ".py",
   "mimetype": "text/x-python",
   "name": "python",
   "nbconvert_exporter": "python",
   "pygments_lexer": "ipython3",
   "version": "3.9.15"
  },
  "orig_nbformat": 4,
  "vscode": {
   "interpreter": {
    "hash": "3011ff289939b7aade6b0a72a8303c334f933a837b9c78c3283dec10ff29434f"
   }
  }
 },
 "nbformat": 4,
 "nbformat_minor": 2
}
