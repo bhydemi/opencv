{
 "cells": [
  {
   "cell_type": "code",
   "execution_count": 25,
   "metadata": {},
   "outputs": [],
   "source": [
    "import cv2\n",
    "import numpy as np\n",
    "from IPython.display import Video, HTML"
   ]
  },
  {
   "cell_type": "code",
   "execution_count": 26,
   "metadata": {},
   "outputs": [],
   "source": [
    "video_1 = './video_files/intruder_1.mp4'\n",
    "saved_video = './saved_video.mp4'\n",
    "saved_video_ = './big_saved_video.mp4'\n",
    "capture_video = cv2.VideoCapture(video_1)\n",
    "width = int(capture_video.get( cv2.CAP_PROP_FRAME_WIDTH))\n",
    "hieght = int(capture_video.get(cv2.CAP_PROP_FRAME_HEIGHT))\n",
    "fps = capture_video.get(cv2.CAP_PROP_FPS)\n",
    "\n",
    "video_out = cv2.VideoWriter(saved_video, cv2.VideoWriter_fourcc(*'XVID'), fps, (width, hieght) )\n",
    "video_bigout = cv2.VideoWriter(saved_video_, cv2.VideoWriter_fourcc(*'XVID'), fps, (2*width, 2*hieght) )"
   ]
  },
  {
   "attachments": {},
   "cell_type": "markdown",
   "metadata": {},
   "source": [
    "### Sample Video"
   ]
  },
  {
   "cell_type": "code",
   "execution_count": 27,
   "metadata": {},
   "outputs": [
    {
     "data": {
      "text/html": [
       "<video src=\"./video_files/intruder_1.mp4\" controls  >\n",
       "      Your browser does not support the <code>video</code> element.\n",
       "    </video>"
      ],
      "text/plain": [
       "<IPython.core.display.Video object>"
      ]
     },
     "execution_count": 27,
     "metadata": {},
     "output_type": "execute_result"
    }
   ],
   "source": [
    "Video(video_1)"
   ]
  },
  {
   "cell_type": "code",
   "execution_count": 28,
   "metadata": {},
   "outputs": [],
   "source": [
    "bg_sub = cv2.createBackgroundSubtractorKNN(200)"
   ]
  },
  {
   "cell_type": "code",
   "execution_count": 29,
   "metadata": {},
   "outputs": [],
   "source": [
    "def DrawBanner(frame, text, banner_height_percent=0.08, font_scale =0.8, text_color=(255, 255, 0), font_thickness=2):\n",
    "    banner_height = int(banner_height_percent * frame.shape[0])\n",
    "    cv2.rectangle(frame, (0,0), (frame.shape[1], banner_height), (0,0,0), thickness=-1)\n",
    "    left_offset =20\n",
    "    location =(left_offset, int(10 + (banner_height_percent * frame.shape[0])/2))\n",
    "    cv2.putText(frame, text, location, cv2.FONT_HERSHEY_SIMPLEX, font_scale, text_color, font_thickness, cv2.LINE_AA)"
   ]
  },
  {
   "cell_type": "code",
   "execution_count": 30,
   "metadata": {},
   "outputs": [],
   "source": [
    "kernel = 5 \n",
    "frame_start = 5\n",
    "frame_count = 0\n",
    "max_contours = 3 \n",
    "\n",
    "while True:\n",
    "    is_frame, frame = capture_video.read()\n",
    "    frame_count += 1 \n",
    "    if is_frame is False:\n",
    "        break\n",
    "    else:\n",
    "        frame_erode_c = frame.copy()\n",
    "    frame_mask = bg_sub.apply(frame)\n",
    "\n",
    "\n",
    "\n",
    "    if frame_count > frame_start:\n",
    "        motion_area = cv2.findNonZero(frame_mask)\n",
    "        if motion_area is not None: \n",
    "            x, y, w, h = cv2.boundingRect(motion_area)\n",
    "            cv2.rectangle(frame, (x, y), (x+w, y+h), (0,255, 255), 4)\n",
    "            DrawBanner(frame, 'Intruder Alert')\n",
    "\n",
    "        frame_mask_erode = cv2.erode(frame_mask, np.ones(kernel, np.uint8))\n",
    "        motion_area_erode = cv2.findNonZero(frame_mask_erode)\n",
    "        if motion_area_erode is not None:\n",
    "            xe, ye, we, he = cv2.boundingRect(motion_area_erode)\n",
    "            cv2.rectangle(frame_erode_c, (xe, ye), (xe+we, ye+he), (0,255, 255), 4)\n",
    "            DrawBanner(frame_erode_c, 'Intruder Alert')\n",
    "\n",
    "        frame_mask_bgr = cv2.cvtColor(frame_mask, cv2.COLOR_GRAY2BGR)\n",
    "        frame_mask_erode_bgr = cv2.cvtColor(frame_mask_erode, cv2.COLOR_GRAY2BGR)\n",
    "\n",
    "        contours, hierarchy = cv2.findContours(frame_mask_erode, cv2.RETR_LIST, cv2.CHAIN_APPROX_SIMPLE)\n",
    "        if len(contours) > 0:\n",
    "            cv2.drawContours(frame_mask_erode_bgr, contours, -1, (255,0,255), 2 )\n",
    "            contours_sorted = sorted(contours, key=cv2.contourArea, reverse=True)\n",
    "\n",
    "            for idx in range(min(max_contours, len(contours_sorted))):\n",
    "                xc, yc, wc, hc = cv2.boundingRect(contours_sorted[idx])\n",
    "                if idx == 0:\n",
    "                    x1 = xc\n",
    "                    y1 = yc\n",
    "                    x2 = xc + wc\n",
    "                    y2 = yc + hc\n",
    "                else:\n",
    "                    x1 = min(x1, xc)\n",
    "                    y1 = min(y1, yc)\n",
    "                    x2 = max(x2, xc+wc)\n",
    "                    y2 = max(y2, yc+hc)\n",
    "            cv2.rectangle(frame_erode_c, (x1, y1), (x2, y2), (255, 0, 0), thickness=3)\n",
    "            DrawBanner(frame_mask, 'Intruder')\n",
    "\n",
    "        DrawBanner(frame_mask_bgr, 'Foreground Mask')\n",
    "        DrawBanner(frame_mask_erode_bgr, 'Foreground Mask (eroded + contours)')\n",
    "\n",
    "        top_video = np.hstack([frame_mask_bgr, frame])\n",
    "        bottom_video = np.hstack([frame_mask_erode_bgr, frame_erode_c])\n",
    "        combined_video = np.vstack([top_video,bottom_video])\n",
    "\n",
    "\n",
    "\n",
    "        frame_mask_erode\n",
    "        video_out.write(frame_erode_c)\n",
    "        video_bigout.write(combined_video)\n",
    "\n",
    "\n",
    "capture_video.release()\n",
    "video_bigout.release()\n",
    "video_out.release()\n",
    "\n",
    "\n"
   ]
  },
  {
   "attachments": {},
   "cell_type": "markdown",
   "metadata": {},
   "source": [
    "### Sample Video Of Intruder Alert "
   ]
  },
  {
   "cell_type": "code",
   "execution_count": 31,
   "metadata": {},
   "outputs": [
    {
     "data": {
      "text/html": [
       "<iframe width=\"560\" height=\"315\" src=\"https://www.youtube.com/embed/OxRixc0h7LI\" title=\"YouTube video player\" frameborder=\"0\" allow=\"accelerometer; autoplay; clipboard-write; encrypted-media; gyroscope; picture-in-picture; web-share\" allowfullscreen></iframe>"
      ],
      "text/plain": [
       "<IPython.core.display.HTML object>"
      ]
     },
     "execution_count": 31,
     "metadata": {},
     "output_type": "execute_result"
    }
   ],
   "source": [
    "HTML('<iframe width=\"560\" height=\"315\" src=\"https://www.youtube.com/embed/OxRixc0h7LI\" title=\"YouTube video player\" frameborder=\"0\" allow=\"accelerometer; autoplay; clipboard-write; encrypted-media; gyroscope; picture-in-picture; web-share\" allowfullscreen></iframe>')"
   ]
  },
  {
   "cell_type": "code",
   "execution_count": 32,
   "metadata": {},
   "outputs": [],
   "source": [
    "kernel = 5 \n",
    "frame_start = 5\n",
    "\n",
    "max_contours = 3 \n",
    "\n",
    "def intruder_detection(input_video_path:str, output_vid_path:str,\n",
    "                        kernel:int = kernel, buffer :int= frame_start, top_contours:int = max_contours):\n",
    "    \"\"\"\n",
    "    Summary:\n",
    "        This function performs intruder detection on a given input video and outputs the result to a specified video file.\n",
    "        \n",
    "    Args:\n",
    "        input_video_path (str): Path to the input video file\n",
    "        output_vid_path (str): Path to the output video file\n",
    "        kernel (np.ndarray, optional): Erosion kernel used in the processing. Defaults to `kernel`.\n",
    "        buffer (int, optional): Number of frames to skip before starting the detection. Defaults to `frame_start`.\n",
    "        top_contours (int, optional): Number of top contours to display in the output video. Defaults to `max_contours`.\n",
    "        \n",
    "    Returns:\n",
    "        None\n",
    "    \n",
    "    Example:\n",
    "        intruder_detection('input.mp4', 'output.avi')\n",
    "    \"\"\"\n",
    "    \n",
    "    capture_video = cv2.VideoCapture(input_video_path)\n",
    "    width = int(capture_video.get( cv2.CAP_PROP_FRAME_WIDTH))\n",
    "    hieght = int(capture_video.get(cv2.CAP_PROP_FRAME_HEIGHT))\n",
    "    fps = capture_video.get(cv2.CAP_PROP_FPS)\n",
    "\n",
    "    video_out = cv2.VideoWriter(output_vid_path, cv2.VideoWriter_fourcc(*'XVID'), fps, (width, hieght) )\n",
    "\n",
    "    frame_count = 0\n",
    "\n",
    "    while True:\n",
    "        is_frame, frame = capture_video.read()\n",
    "        frame_count += 1 \n",
    "        if is_frame is False:\n",
    "            break\n",
    "        else:\n",
    "            frame_erode_c = frame.copy()\n",
    "        frame_mask = bg_sub.apply(frame)\n",
    "\n",
    "\n",
    "\n",
    "        if frame_count > buffer:\n",
    "\n",
    "            frame_mask_erode = cv2.erode(frame_mask, np.ones(kernel, np.uint8))\n",
    "\n",
    "            frame_mask_erode_bgr = cv2.cvtColor(frame_mask_erode, cv2.COLOR_GRAY2BGR)\n",
    "\n",
    "            contours, hierarchy = cv2.findContours(frame_mask_erode, cv2.RETR_LIST, cv2.CHAIN_APPROX_SIMPLE)\n",
    "            if len(contours) > 0:\n",
    "                cv2.drawContours(frame_mask_erode_bgr, contours, -1, (255,0,255), 2 )\n",
    "                contours_sorted = sorted(contours, key=cv2.contourArea, reverse=True)\n",
    "\n",
    "                for idx in range(min(top_contours, len(contours_sorted))):\n",
    "                    xc, yc, wc, hc = cv2.boundingRect(contours_sorted[idx])\n",
    "                    if idx == 0:\n",
    "                        x1 = xc\n",
    "                        y1 = yc\n",
    "                        x2 = xc + wc\n",
    "                        y2 = yc + hc\n",
    "                    else:\n",
    "                        x1 = min(x1, xc)\n",
    "                        y1 = min(y1, yc)\n",
    "                        x2 = max(x2, xc+wc)\n",
    "                        y2 = max(y2, yc+hc)\n",
    "                cv2.rectangle(frame_erode_c, (x1, y1), (x2, y2), (255, 0, 0), thickness=3)\n",
    "\n",
    "            frame_mask_erode\n",
    "            video_out.write(frame_erode_c)\n",
    "\n",
    "    capture_video.release()\n",
    "    video_out.release()\n"
   ]
  },
  {
   "cell_type": "code",
   "execution_count": 33,
   "metadata": {},
   "outputs": [],
   "source": [
    "intruder_detection('./video_files/intruder_2.mp4', 'intruder_detected_or_not.mp4')"
   ]
  },
  {
   "cell_type": "code",
   "execution_count": 34,
   "metadata": {},
   "outputs": [
    {
     "name": "stderr",
     "output_type": "stream",
     "text": [
      "c:\\Users\\yaqoo\\anaconda3\\lib\\site-packages\\IPython\\core\\display.py:431: UserWarning: Consider using IPython.display.IFrame instead\n",
      "  warnings.warn(\"Consider using IPython.display.IFrame instead\")\n"
     ]
    },
    {
     "data": {
      "text/html": [
       "<iframe width=\"560\" height=\"315\" src=\"https://www.youtube.com/embed/lWOwZ1iH5OM\" title=\"YouTube video player\" frameborder=\"0\" allow=\"accelerometer; autoplay; clipboard-write; encrypted-media; gyroscope; picture-in-picture; web-share\" allowfullscreen></iframe>"
      ],
      "text/plain": [
       "<IPython.core.display.HTML object>"
      ]
     },
     "execution_count": 34,
     "metadata": {},
     "output_type": "execute_result"
    }
   ],
   "source": [
    "HTML('<iframe width=\"560\" height=\"315\" src=\"https://www.youtube.com/embed/lWOwZ1iH5OM\" title=\"YouTube video player\" frameborder=\"0\" allow=\"accelerometer; autoplay; clipboard-write; encrypted-media; gyroscope; picture-in-picture; web-share\" allowfullscreen></iframe>')"
   ]
  }
 ],
 "metadata": {
  "kernelspec": {
   "display_name": "base",
   "language": "python",
   "name": "python3"
  },
  "language_info": {
   "codemirror_mode": {
    "name": "ipython",
    "version": 3
   },
   "file_extension": ".py",
   "mimetype": "text/x-python",
   "name": "python",
   "nbconvert_exporter": "python",
   "pygments_lexer": "ipython3",
   "version": "3.9.15"
  },
  "orig_nbformat": 4,
  "vscode": {
   "interpreter": {
    "hash": "3011ff289939b7aade6b0a72a8303c334f933a837b9c78c3283dec10ff29434f"
   }
  }
 },
 "nbformat": 4,
 "nbformat_minor": 2
}
