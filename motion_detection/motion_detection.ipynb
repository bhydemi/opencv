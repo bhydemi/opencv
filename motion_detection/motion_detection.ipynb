{
 "cells": [
  {
   "attachments": {},
   "cell_type": "markdown",
   "metadata": {},
   "source": [
    "# Import Library"
   ]
  },
  {
   "cell_type": "code",
   "execution_count": 51,
   "metadata": {},
   "outputs": [],
   "source": [
    "import cv2 \n",
    "from IPython.display import Video, HTML\n",
    "import numpy as np"
   ]
  },
  {
   "cell_type": "markdown",
   "metadata": {},
   "source": [
    "## Intial Video"
   ]
  },
  {
   "cell_type": "code",
   "execution_count": 45,
   "metadata": {},
   "outputs": [
    {
     "data": {
      "text/html": [
       "<video src=\"motion_test.mp4\" controls  >\n",
       "      Your browser does not support the <code>video</code> element.\n",
       "    </video>"
      ],
      "text/plain": [
       "<IPython.core.display.Video object>"
      ]
     },
     "execution_count": 45,
     "metadata": {},
     "output_type": "execute_result"
    }
   ],
   "source": [
    "input_video = 'motion_test.mp4'\n",
    "Video(input_video)"
   ]
  },
  {
   "cell_type": "code",
   "execution_count": 46,
   "metadata": {},
   "outputs": [],
   "source": [
    "video_cap = cv2.VideoCapture(input_video)\n",
    "if not video_cap.isOpened():\n",
    "    print('Unable to Open: ' + input_video)\n",
    "\n",
    "frame_w = int(video_cap.get(cv2.CAP_PROP_FRAME_WIDTH))\n",
    "frame_h = int(video_cap.get(cv2.CAP_PROP_FRAME_HEIGHT))\n",
    "fps = int(video_cap.get(cv2.CAP_PROP_FPS))\n",
    "\n",
    "size = (frame_w, frame_h)\n",
    "size_quad = (int(2 *frame_w), int(2*frame_h))\n",
    "\n",
    "video_out_quad = cv2.VideoWriter('video_out_quad.mp4', cv2.VideoWriter_fourcc(*'XVID'), fps, size_quad)"
   ]
  },
  {
   "cell_type": "code",
   "execution_count": 47,
   "metadata": {},
   "outputs": [],
   "source": [
    "def DrawBanner(frame, text, banner_height_percent=0.08, font_scale =0.8, text_color=(0,255, 0), font_thickness=2):\n",
    "    banner_height = int(banner_height_percent * frame.shape[0])\n",
    "    cv2.rectangle(frame, (0,0), (frame.shape[1], banner_height), (0,0,0), thickness=-1)\n",
    "    left_offset =20\n",
    "    location =(left_offset, int(10 + (banner_height_percent * frame.shape[0])/2))\n",
    "    cv2.putText(frame, text, location, cv2.FONT_HERSHEY_SIMPLEX, font_scale, text_color, font_thickness, cv2.LINE_AA)"
   ]
  },
  {
   "cell_type": "code",
   "execution_count": 48,
   "metadata": {},
   "outputs": [],
   "source": [
    "background_subtractor = cv2.createBackgroundSubtractorKNN(history=4, dist2Threshold=4, detectShadows=True)\n",
    "\n",
    "\n",
    "ksize = (5,5)\n",
    "red =(0, 0,255)\n",
    "yellow = (0, 255, 255)\n",
    "\n",
    "while True:\n",
    "    ret, frame = video_cap.read()\n",
    "\n",
    "    if frame is None:\n",
    "        break\n",
    "    else:\n",
    "        frame_erode = frame.copy()\n",
    "    \n",
    "    fg_mask = background_subtractor.apply(frame)\n",
    "    motion_area = cv2.findNonZero(fg_mask)\n",
    "    x, y, w, h = cv2.boundingRect(motion_area)\n",
    "\n",
    "    fg_mask_erode = cv2.erode(fg_mask, np.ones(ksize, np.uint8))\n",
    "    motion_area_erode = cv2.findNonZero(fg_mask_erode)\n",
    "    xe, ye, we, he = cv2.boundingRect(motion_area_erode)\n",
    "\n",
    "    if motion_area is not None:\n",
    "        cv2.rectangle(frame, (x,y), (x+w, y+h), red, thickness=6)\n",
    "    \n",
    "    if motion_area_erode is not None:\n",
    "        cv2.rectangle(frame_erode, (xe, ye), (xe+we, ye+he), red, thickness=6)\n",
    "    \n",
    "    frame_fg_mask = cv2.cvtColor(fg_mask, cv2.COLOR_GRAY2BGR)\n",
    "    frame_fg_mask_erode = cv2.cvtColor(fg_mask_erode, cv2.COLOR_GRAY2BGR)\n",
    "\n",
    "    DrawBanner(frame_fg_mask, 'Foreground Mask')\n",
    "    DrawBanner(frame_fg_mask_erode, 'Foreground Mask Eroded')\n",
    "\n",
    "    frame_top = np.hstack([frame_fg_mask, frame])\n",
    "    frame_bot = np.hstack([frame_fg_mask_erode, frame_erode])\n",
    "    frame_composite = np.vstack([frame_top, frame_bot])\n",
    "\n",
    "    fc_h, fc_w, _ = frame_composite.shape\n",
    "    cv2.line(frame_composite, (0, int(fc_h/2)), (fc_w, int(fc_h/2)), yellow, thickness=1, lineType=cv2.LINE_AA)\n",
    "\n",
    "    video_out_quad.write(frame_composite)\n",
    "\n",
    "video_cap.release()\n",
    "video_out_quad.release()"
   ]
  },
  {
   "attachments": {},
   "cell_type": "markdown",
   "metadata": {},
   "source": [
    "## Output Video"
   ]
  },
  {
   "cell_type": "code",
   "execution_count": 53,
   "metadata": {},
   "outputs": [
    {
     "data": {
      "text/html": [
       "<iframe width=\"560\" height=\"315\" src=\"https://www.youtube.com/embed/fdMwtmIRiy4\" title=\"YouTube video player\" frameborder=\"0\" allow=\"accelerometer; autoplay; clipboard-write; encrypted-media; gyroscope; picture-in-picture; web-share\" allowfullscreen></iframe>"
      ],
      "text/plain": [
       "<IPython.core.display.HTML object>"
      ]
     },
     "execution_count": 53,
     "metadata": {},
     "output_type": "execute_result"
    }
   ],
   "source": [
    "HTML('<iframe width=\"560\" height=\"315\" src=\"https://www.youtube.com/embed/fdMwtmIRiy4\" title=\"YouTube video player\" frameborder=\"0\" allow=\"accelerometer; autoplay; clipboard-write; encrypted-media; gyroscope; picture-in-picture; web-share\" allowfullscreen></iframe>')"
   ]
  }
 ],
 "metadata": {
  "kernelspec": {
   "display_name": "base",
   "language": "python",
   "name": "python3"
  },
  "language_info": {
   "codemirror_mode": {
    "name": "ipython",
    "version": 3
   },
   "file_extension": ".py",
   "mimetype": "text/x-python",
   "name": "python",
   "nbconvert_exporter": "python",
   "pygments_lexer": "ipython3",
   "version": "3.9.15"
  },
  "orig_nbformat": 4,
  "vscode": {
   "interpreter": {
    "hash": "3011ff289939b7aade6b0a72a8303c334f933a837b9c78c3283dec10ff29434f"
   }
  }
 },
 "nbformat": 4,
 "nbformat_minor": 2
}
